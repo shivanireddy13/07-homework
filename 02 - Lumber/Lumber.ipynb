{
 "cells": [
  {
   "cell_type": "markdown",
   "id": "5371f04c",
   "metadata": {},
   "source": [
    "# Lumber Prices\n",
    "\n",
    "* **Data:** `lumber-prices.csv`\n",
    "* **Description:** Chicago lumber futures per 1000 board feet, in USD, as of some time in 2021. To keep things simple, we're going to say that this is the measurement over a month instead of just one date per month. Basically: each month, how much you'd pay if you bought 125 2x4 boards at the hardware store.\n",
    "* **Source:** https://tradingeconomics.com/commodity/lumber\n",
    "* **Columns of interest:**\n",
    "    * `Open` is the price at the start of the month\n",
    "    * `High` is the high price over the course of the month\n",
    "    * `Low` is the low number over the course of the month\n",
    "    * `Close` is the number at the end of the month"
   ]
  },
  {
   "cell_type": "markdown",
   "id": "ffcf050f",
   "metadata": {},
   "source": [
    "## Read in your data"
   ]
  },
  {
   "cell_type": "code",
   "execution_count": 113,
   "id": "505f1e94",
   "metadata": {},
   "outputs": [
    {
     "data": {
      "text/html": [
       "<div>\n",
       "<style scoped>\n",
       "    .dataframe tbody tr th:only-of-type {\n",
       "        vertical-align: middle;\n",
       "    }\n",
       "\n",
       "    .dataframe tbody tr th {\n",
       "        vertical-align: top;\n",
       "    }\n",
       "\n",
       "    .dataframe thead th {\n",
       "        text-align: right;\n",
       "    }\n",
       "</style>\n",
       "<table border=\"1\" class=\"dataframe\">\n",
       "  <thead>\n",
       "    <tr style=\"text-align: right;\">\n",
       "      <th></th>\n",
       "      <th>open</th>\n",
       "      <th>high</th>\n",
       "      <th>low</th>\n",
       "      <th>close</th>\n",
       "      <th>date</th>\n",
       "    </tr>\n",
       "  </thead>\n",
       "  <tbody>\n",
       "    <tr>\n",
       "      <th>0</th>\n",
       "      <td>$407.00</td>\n",
       "      <td>$424.70</td>\n",
       "      <td>$377.00</td>\n",
       "      <td>$424.70</td>\n",
       "      <td>1996-12-09T00:00:00</td>\n",
       "    </tr>\n",
       "    <tr>\n",
       "      <th>1</th>\n",
       "      <td>$426.00</td>\n",
       "      <td>$450.50</td>\n",
       "      <td>$395.00</td>\n",
       "      <td>$411.40</td>\n",
       "      <td>1997-01-02T00:00:00</td>\n",
       "    </tr>\n",
       "    <tr>\n",
       "      <th>2</th>\n",
       "      <td>$408.50</td>\n",
       "      <td>$421.50</td>\n",
       "      <td>$382.10</td>\n",
       "      <td>$383.50</td>\n",
       "      <td>1997-02-03T00:00:00</td>\n",
       "    </tr>\n",
       "    <tr>\n",
       "      <th>3</th>\n",
       "      <td>$386.00</td>\n",
       "      <td>$389.70</td>\n",
       "      <td>$355.00</td>\n",
       "      <td>$380.50</td>\n",
       "      <td>1997-03-03T00:00:00</td>\n",
       "    </tr>\n",
       "    <tr>\n",
       "      <th>4</th>\n",
       "      <td>$378.00</td>\n",
       "      <td>$417.50</td>\n",
       "      <td>$376.50</td>\n",
       "      <td>$403.10</td>\n",
       "      <td>1997-04-01T00:00:00</td>\n",
       "    </tr>\n",
       "    <tr>\n",
       "      <th>5</th>\n",
       "      <td>$401.90</td>\n",
       "      <td>$404.40</td>\n",
       "      <td>$370.10</td>\n",
       "      <td>$380.50</td>\n",
       "      <td>1997-05-01T00:00:00</td>\n",
       "    </tr>\n",
       "    <tr>\n",
       "      <th>6</th>\n",
       "      <td>$387.50</td>\n",
       "      <td>$393.10</td>\n",
       "      <td>$347.10</td>\n",
       "      <td>$378.00</td>\n",
       "      <td>1997-06-02T00:00:00</td>\n",
       "    </tr>\n",
       "    <tr>\n",
       "      <th>7</th>\n",
       "      <td>$380.60</td>\n",
       "      <td>$380.90</td>\n",
       "      <td>$332.00</td>\n",
       "      <td>$343.70</td>\n",
       "      <td>1997-07-01T00:00:00</td>\n",
       "    </tr>\n",
       "    <tr>\n",
       "      <th>8</th>\n",
       "      <td>$342.00</td>\n",
       "      <td>$365.90</td>\n",
       "      <td>$341.10</td>\n",
       "      <td>$356.70</td>\n",
       "      <td>1997-08-01T00:00:00</td>\n",
       "    </tr>\n",
       "    <tr>\n",
       "      <th>9</th>\n",
       "      <td>$356.70</td>\n",
       "      <td>$364.40</td>\n",
       "      <td>$290.50</td>\n",
       "      <td>$296.60</td>\n",
       "      <td>1997-09-02T00:00:00</td>\n",
       "    </tr>\n",
       "    <tr>\n",
       "      <th>10</th>\n",
       "      <td>$296.00</td>\n",
       "      <td>$328.40</td>\n",
       "      <td>$295.00</td>\n",
       "      <td>$296.30</td>\n",
       "      <td>1997-10-01T00:00:00</td>\n",
       "    </tr>\n",
       "    <tr>\n",
       "      <th>11</th>\n",
       "      <td>$299.00</td>\n",
       "      <td>$330.00</td>\n",
       "      <td>$291.00</td>\n",
       "      <td>$325.00</td>\n",
       "      <td>1997-11-03T00:00:00</td>\n",
       "    </tr>\n",
       "    <tr>\n",
       "      <th>12</th>\n",
       "      <td>$327.40</td>\n",
       "      <td>$328.80</td>\n",
       "      <td>$280.60</td>\n",
       "      <td>$282.90</td>\n",
       "      <td>1997-12-01T00:00:00</td>\n",
       "    </tr>\n",
       "    <tr>\n",
       "      <th>13</th>\n",
       "      <td>$285.50</td>\n",
       "      <td>$311.00</td>\n",
       "      <td>$273.80</td>\n",
       "      <td>$305.70</td>\n",
       "      <td>1998-01-02T00:00:00</td>\n",
       "    </tr>\n",
       "    <tr>\n",
       "      <th>14</th>\n",
       "      <td>$307.00</td>\n",
       "      <td>$325.70</td>\n",
       "      <td>$290.00</td>\n",
       "      <td>$295.20</td>\n",
       "      <td>1998-02-02T00:00:00</td>\n",
       "    </tr>\n",
       "    <tr>\n",
       "      <th>15</th>\n",
       "      <td>$297.30</td>\n",
       "      <td>$325.40</td>\n",
       "      <td>$280.60</td>\n",
       "      <td>$319.00</td>\n",
       "      <td>1998-03-02T00:00:00</td>\n",
       "    </tr>\n",
       "    <tr>\n",
       "      <th>16</th>\n",
       "      <td>$314.00</td>\n",
       "      <td>$345.40</td>\n",
       "      <td>$294.00</td>\n",
       "      <td>$299.00</td>\n",
       "      <td>1998-04-01T00:00:00</td>\n",
       "    </tr>\n",
       "    <tr>\n",
       "      <th>17</th>\n",
       "      <td>$298.00</td>\n",
       "      <td>$307.80</td>\n",
       "      <td>$271.60</td>\n",
       "      <td>$272.40</td>\n",
       "      <td>1998-05-01T00:00:00</td>\n",
       "    </tr>\n",
       "    <tr>\n",
       "      <th>18</th>\n",
       "      <td>$264.00</td>\n",
       "      <td>$300.00</td>\n",
       "      <td>$260.80</td>\n",
       "      <td>$293.40</td>\n",
       "      <td>1998-06-01T00:00:00</td>\n",
       "    </tr>\n",
       "    <tr>\n",
       "      <th>19</th>\n",
       "      <td>$293.00</td>\n",
       "      <td>$303.50</td>\n",
       "      <td>$265.00</td>\n",
       "      <td>$301.30</td>\n",
       "      <td>1998-07-01T00:00:00</td>\n",
       "    </tr>\n",
       "  </tbody>\n",
       "</table>\n",
       "</div>"
      ],
      "text/plain": [
       "       open     high      low    close                 date\n",
       "0   $407.00  $424.70  $377.00  $424.70  1996-12-09T00:00:00\n",
       "1   $426.00  $450.50  $395.00  $411.40  1997-01-02T00:00:00\n",
       "2   $408.50  $421.50  $382.10  $383.50  1997-02-03T00:00:00\n",
       "3   $386.00  $389.70  $355.00  $380.50  1997-03-03T00:00:00\n",
       "4   $378.00  $417.50  $376.50  $403.10  1997-04-01T00:00:00\n",
       "5   $401.90  $404.40  $370.10  $380.50  1997-05-01T00:00:00\n",
       "6   $387.50  $393.10  $347.10  $378.00  1997-06-02T00:00:00\n",
       "7   $380.60  $380.90  $332.00  $343.70  1997-07-01T00:00:00\n",
       "8   $342.00  $365.90  $341.10  $356.70  1997-08-01T00:00:00\n",
       "9   $356.70  $364.40  $290.50  $296.60  1997-09-02T00:00:00\n",
       "10  $296.00  $328.40  $295.00  $296.30  1997-10-01T00:00:00\n",
       "11  $299.00  $330.00  $291.00  $325.00  1997-11-03T00:00:00\n",
       "12  $327.40  $328.80  $280.60  $282.90  1997-12-01T00:00:00\n",
       "13  $285.50  $311.00  $273.80  $305.70  1998-01-02T00:00:00\n",
       "14  $307.00  $325.70  $290.00  $295.20  1998-02-02T00:00:00\n",
       "15  $297.30  $325.40  $280.60  $319.00  1998-03-02T00:00:00\n",
       "16  $314.00  $345.40  $294.00  $299.00  1998-04-01T00:00:00\n",
       "17  $298.00  $307.80  $271.60  $272.40  1998-05-01T00:00:00\n",
       "18  $264.00  $300.00  $260.80  $293.40  1998-06-01T00:00:00\n",
       "19  $293.00  $303.50  $265.00  $301.30  1998-07-01T00:00:00"
      ]
     },
     "execution_count": 113,
     "metadata": {},
     "output_type": "execute_result"
    }
   ],
   "source": [
    "import pandas as pd\n",
    "df = pd.read_csv(\"lumber-prices.csv\")\n",
    "df.describe()\n",
    "df.head(20)"
   ]
  },
  {
   "cell_type": "markdown",
   "id": "e0403107",
   "metadata": {},
   "source": [
    "## What is the earliest month in this dataset?\n",
    "\n",
    "We only have one reading per month, so you could also read this as \"what is the earliest date in the dataset\""
   ]
  },
  {
   "cell_type": "code",
   "execution_count": 114,
   "id": "9dfd66cc",
   "metadata": {},
   "outputs": [
    {
     "data": {
      "text/plain": [
       "Timestamp('1996-12-09 00:00:00')"
      ]
     },
     "execution_count": 114,
     "metadata": {},
     "output_type": "execute_result"
    }
   ],
   "source": [
    "#df.date = df.date.str.replace(\"T00:00:00\", \"\")\n",
    "\n",
    "\n",
    "df['date'] = pd.to_datetime(df['date'], format= '%Y-%m-%d')\n",
    "\n",
    "\n",
    "df['month'] = df['date'].dt.month\n",
    "df.head()\n",
    "\n",
    "\n",
    "df['date'].min()"
   ]
  },
  {
   "cell_type": "markdown",
   "id": "2cd14f08",
   "metadata": {},
   "source": [
    "## What is the most recent month in this dataset?\n",
    "\n",
    "We only have one reading per month, so you could also read this as \"what is the earliest date in the dataset\""
   ]
  },
  {
   "cell_type": "code",
   "execution_count": 115,
   "id": "80d23da2",
   "metadata": {},
   "outputs": [
    {
     "data": {
      "text/plain": [
       "Timestamp('2021-11-01 00:00:00')"
      ]
     },
     "execution_count": 115,
     "metadata": {},
     "output_type": "execute_result"
    }
   ],
   "source": [
    "df['date'].max()"
   ]
  },
  {
   "cell_type": "markdown",
   "id": "0a55273d",
   "metadata": {},
   "source": [
    "## What 3 months had the highest high lumber price?"
   ]
  },
  {
   "cell_type": "code",
   "execution_count": 116,
   "id": "0e5cf127",
   "metadata": {},
   "outputs": [
    {
     "data": {
      "text/plain": [
       "month\n",
       "8     $934.50\n",
       "1     $912.20\n",
       "12    $900.50\n",
       "Name: high, dtype: object"
      ]
     },
     "execution_count": 116,
     "metadata": {},
     "output_type": "execute_result"
    }
   ],
   "source": [
    "df.groupby('month')['high'].max().sort_values(ascending=False).head(3)"
   ]
  },
  {
   "cell_type": "markdown",
   "id": "ecf489fb",
   "metadata": {},
   "source": [
    "## What 3 months had the lowest low lumber price?"
   ]
  },
  {
   "cell_type": "code",
   "execution_count": 117,
   "id": "ddcccea4",
   "metadata": {},
   "outputs": [
    {
     "data": {
      "text/plain": [
       "month\n",
       "11    $182.60\n",
       "6     $175.20\n",
       "8     $170.30\n",
       "Name: low, dtype: object"
      ]
     },
     "execution_count": 117,
     "metadata": {},
     "output_type": "execute_result"
    }
   ],
   "source": [
    "df.groupby('month')['low'].min().sort_values(ascending=False).head(3)"
   ]
  },
  {
   "cell_type": "markdown",
   "id": "843b2f36",
   "metadata": {},
   "source": [
    "## What is the median \"high\" lumber price in our dataset?"
   ]
  },
  {
   "cell_type": "code",
   "execution_count": 120,
   "id": "d7d69d6b",
   "metadata": {},
   "outputs": [
    {
     "name": "stderr",
     "output_type": "stream",
     "text": [
      "/var/folders/t3/wdvr53w53sxctv2njm810gsh0000gn/T/ipykernel_19182/755750542.py:3: FutureWarning: The default value of regex will change from True to False in a future version. In addition, single character regular expressions will *not* be treated as literal strings when regex=True.\n",
      "  df.low = df.low.str.replace(\"$\",\"\")\n"
     ]
    },
    {
     "data": {
      "text/plain": [
       "329.65"
      ]
     },
     "execution_count": 120,
     "metadata": {},
     "output_type": "execute_result"
    }
   ],
   "source": [
    "#df.high = df.high.str.replace(\"$\",\"\")\n",
    "df.head()\n",
    "df.low = df.low.str.replace(\"$\",\"\")\n",
    "df.high.median()"
   ]
  },
  {
   "cell_type": "markdown",
   "id": "8dcb415a",
   "metadata": {},
   "source": [
    "## What is the median \"low\" lumber price in our dataset?"
   ]
  },
  {
   "cell_type": "code",
   "execution_count": 121,
   "id": "f783e687",
   "metadata": {},
   "outputs": [
    {
     "data": {
      "text/plain": [
       "286.1"
      ]
     },
     "execution_count": 121,
     "metadata": {},
     "output_type": "execute_result"
    }
   ],
   "source": [
    "df.low.median()"
   ]
  },
  {
   "cell_type": "markdown",
   "id": "b2e6b0ea",
   "metadata": {},
   "source": [
    "## Plot the maximum \"high\" lumber price on an annual basis."
   ]
  },
  {
   "cell_type": "code",
   "execution_count": 122,
   "id": "78759a14",
   "metadata": {},
   "outputs": [
    {
     "data": {
      "text/plain": [
       "<AxesSubplot: xlabel='year'>"
      ]
     },
     "execution_count": 122,
     "metadata": {},
     "output_type": "execute_result"
    },
    {
     "data": {
      "image/png": "[encoded data removed]",
      "text/plain": [
       "<Figure size 640x480 with 1 Axes>"
      ]
     },
     "metadata": {},
     "output_type": "display_data"
    }
   ],
   "source": [
    "df['year'] = df['date'].dt.year\n",
    "df.head()\n",
    "df.year = df.year.astype(int)\n",
    "df.high = df.high.astype(float)\n",
    "df.low = df.low.astype(float)\n",
    "df.groupby('year')['high'].max().sort_values(ascending=False).plot(kind='bar')\n"
   ]
  },
  {
   "cell_type": "markdown",
   "id": "898b6df0",
   "metadata": {},
   "source": [
    "## Plot the lowest \"low\" lumber price on an annual basis."
   ]
  },
  {
   "cell_type": "code",
   "execution_count": 123,
   "id": "007ed835",
   "metadata": {},
   "outputs": [
    {
     "data": {
      "text/plain": [
       "<AxesSubplot: xlabel='year'>"
      ]
     },
     "execution_count": 123,
     "metadata": {},
     "output_type": "execute_result"
    },
    {
     "data": {
      "image/png": "[encoded data removed]",
      "text/plain": [
       "<Figure size 640x480 with 1 Axes>"
      ]
     },
     "metadata": {},
     "output_type": "display_data"
    }
   ],
   "source": [
    "df.groupby('year')['low'].min().sort_values(ascending=False).plot(kind='bar')"
   ]
  },
  {
   "cell_type": "markdown",
   "id": "5ac81dd7",
   "metadata": {},
   "source": [
    "## Plot the median \"close\" lumber price on an quarterly basis."
   ]
  },
  {
   "cell_type": "code",
   "execution_count": 128,
   "id": "e23ff6ca",
   "metadata": {},
   "outputs": [
    {
     "data": {
      "text/plain": [
       "305.65"
      ]
     },
     "execution_count": 128,
     "metadata": {},
     "output_type": "execute_result"
    }
   ],
   "source": [
    "#df.close = df.close.astype(str)\n",
    "#df.close = df.close.str.replace(\"$\",\"\")\n",
    "#df.close = df.close.astype(float)\n",
    "df.close.median()"
   ]
  },
  {
   "cell_type": "markdown",
   "id": "a507d8a6",
   "metadata": {},
   "source": [
    "## What month in our dataset had the largest swing between high and low?\n",
    "\n",
    "You'll want to create a new column for this one"
   ]
  },
  {
   "cell_type": "code",
   "execution_count": 130,
   "id": "4178d51c",
   "metadata": {},
   "outputs": [
    {
     "data": {
      "text/plain": [
       "date\n",
       "2021-06-01    675.0\n",
       "Name: difference, dtype: float64"
      ]
     },
     "execution_count": 130,
     "metadata": {},
     "output_type": "execute_result"
    }
   ],
   "source": [
    "df['difference'] = df['high'] - df['low']\n",
    "df.groupby('date')['difference'].max().sort_values(ascending=False).head(1)\n"
   ]
  },
  {
   "cell_type": "code",
   "execution_count": null,
   "id": "42d3445c",
   "metadata": {},
   "outputs": [],
   "source": []
  },
  {
   "cell_type": "markdown",
   "id": "dd08822c",
   "metadata": {},
   "source": [
    "## In how many months did lumber prices rise?\n",
    "\n",
    "If the price was greater at the end of the month than the beginning of the month, we'll say the price rose."
   ]
  },
  {
   "cell_type": "code",
   "execution_count": 141,
   "id": "e6549397",
   "metadata": {},
   "outputs": [
    {
     "data": {
      "text/plain": [
       "month\n",
       "11    19\n",
       "1     15\n",
       "10    14\n",
       "12    13\n",
       "4     12\n",
       "5     12\n",
       "7     12\n",
       "2     11\n",
       "3     11\n",
       "6     10\n",
       "8     10\n",
       "9      6\n",
       "Name: close, dtype: int64"
      ]
     },
     "execution_count": 141,
     "metadata": {},
     "output_type": "execute_result"
    }
   ],
   "source": [
    "#df.open = df.open.astype(str)\n",
    "#df.open = df.open.str.replace(\"$\",\"\")\n",
    "df.open = df.open.astype(float)\n",
    "\n",
    "df[df.close > df.open].groupby('month')['close'].count().sort_values(ascending=False)"
   ]
  },
  {
   "cell_type": "code",
   "execution_count": null,
   "id": "696becea",
   "metadata": {},
   "outputs": [],
   "source": []
  },
  {
   "cell_type": "markdown",
   "id": "28594336",
   "metadata": {},
   "source": [
    "## How many months did lumber prices drop?\n",
    "\n",
    "If the price was lower at the end of the month than the beginning of the month, we'll say the price dropped."
   ]
  },
  {
   "cell_type": "code",
   "execution_count": 143,
   "id": "d94f1cfc",
   "metadata": {},
   "outputs": [
    {
     "data": {
      "text/plain": [
       "month\n",
       "9     19\n",
       "6     15\n",
       "8     15\n",
       "2     14\n",
       "3     14\n",
       "4     13\n",
       "5     13\n",
       "7     13\n",
       "12    12\n",
       "10    11\n",
       "1     10\n",
       "11     6\n",
       "Name: open, dtype: int64"
      ]
     },
     "execution_count": 143,
     "metadata": {},
     "output_type": "execute_result"
    }
   ],
   "source": [
    "df[df.open > df.close].groupby('month')['open'].count().sort_values(ascending=False)"
   ]
  },
  {
   "cell_type": "markdown",
   "id": "3c8b4471",
   "metadata": {},
   "source": [
    "## In 2020, how many months saw lumber prices rise vs lumber prices fall?"
   ]
  },
  {
   "cell_type": "code",
   "execution_count": 146,
   "id": "22afd8cf",
   "metadata": {},
   "outputs": [
    {
     "name": "stderr",
     "output_type": "stream",
     "text": [
      "/var/folders/t3/wdvr53w53sxctv2njm810gsh0000gn/T/ipykernel_19182/3508000699.py:1: UserWarning: Boolean Series key will be reindexed to match DataFrame index.\n",
      "  df[df.year == 2020][df.open > df.close].groupby('month')['open'].count().sort_values(ascending=False) #4\n"
     ]
    },
    {
     "data": {
      "text/plain": [
       "month\n",
       "2     1\n",
       "3     1\n",
       "9     1\n",
       "10    1\n",
       "Name: open, dtype: int64"
      ]
     },
     "execution_count": 146,
     "metadata": {},
     "output_type": "execute_result"
    }
   ],
   "source": [
    "df[df.year == 2020][df.open > df.close].groupby('month')['open'].count().sort_values(ascending=False) #4 months where prices fell\n",
    "df[df.year == 2020][df.close > df.open].groupby('month')['close'].count().sort_values(ascending=False) #8 months where prices rose"
   ]
  },
  {
   "cell_type": "markdown",
   "id": "3b98b6d5",
   "metadata": {},
   "source": [
    "## In 2000, how many months saw lumber prices rise vs lumber prices fall?"
   ]
  },
  {
   "cell_type": "code",
   "execution_count": 148,
   "id": "534265d7",
   "metadata": {},
   "outputs": [
    {
     "name": "stderr",
     "output_type": "stream",
     "text": [
      "/var/folders/t3/wdvr53w53sxctv2njm810gsh0000gn/T/ipykernel_19182/1022758666.py:1: UserWarning: Boolean Series key will be reindexed to match DataFrame index.\n",
      "  df[df.year == 2000][df.open > df.close].groupby('month')['open'].count().sort_values(ascending=False) # months where prices fell\n"
     ]
    },
    {
     "data": {
      "text/plain": [
       "month\n",
       "1     1\n",
       "2     1\n",
       "3     1\n",
       "4     1\n",
       "5     1\n",
       "6     1\n",
       "7     1\n",
       "8     1\n",
       "10    1\n",
       "12    1\n",
       "Name: open, dtype: int64"
      ]
     },
     "execution_count": 148,
     "metadata": {},
     "output_type": "execute_result"
    }
   ],
   "source": [
    "df[df.year == 2000][df.open > df.close].groupby('month')['open'].count().sort_values(ascending=False) #10 months where prices fell\n",
    "#df[df.year == 2000][df.close > df.open].groupby('month')['close'].count().sort_values(ascending=False) #2 months where prices rose"
   ]
  }
 ],
 "metadata": {
  "kernelspec": {
   "display_name": "Python 3.11.0rc2 64-bit ('3.11.0rc2')",
   "language": "python",
   "name": "python3"
  },
  "language_info": {
   "codemirror_mode": {
    "name": "ipython",
    "version": 3
   },
   "file_extension": ".py",
   "mimetype": "text/x-python",
   "name": "python",
   "nbconvert_exporter": "python",
   "pygments_lexer": "ipython3",
   "version": "3.11.0rc2"
  },
  "vscode": {
   "interpreter": {
    "hash": "fa7dd49bd06a4b0b734d7073ce817c8199e9056c91ac3585cf20f0427123aa55"
   }
  }
 },
 "nbformat": 4,
 "nbformat_minor": 5
}
