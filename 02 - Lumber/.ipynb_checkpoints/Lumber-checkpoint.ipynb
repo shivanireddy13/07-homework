{
 "cells": [
  {
   "cell_type": "markdown",
   "id": "5371f04c",
   "metadata": {},
   "source": [
    "# Lumber Prices\n",
    "\n",
    "* **Data:** `lumber-prices.csv`\n",
    "* **Description:** Chicago lumber futures per 1000 board feet, in USD, as of some time in 2021. To keep things simple, we're going to say that this is the measurement over a month instead of just one date per month. Basically: each month, how much you'd pay if you bought 125 2x4 boards at the hardware store.\n",
    "* **Source:** https://tradingeconomics.com/commodity/lumber\n",
    "* **Columns of interest:**\n",
    "    * `Open` is the price at the start of the month\n",
    "    * `High` is the high price over the course of the month\n",
    "    * `Low` is the low number over the course of the month\n",
    "    * `Close` is the number at the end of the month"
   ]
  },
  {
   "cell_type": "markdown",
   "id": "ffcf050f",
   "metadata": {},
   "source": [
    "## Read in your data"
   ]
  },
  {
   "cell_type": "code",
   "execution_count": null,
   "id": "505f1e94",
   "metadata": {},
   "outputs": [],
   "source": []
  },
  {
   "cell_type": "markdown",
   "id": "e0403107",
   "metadata": {},
   "source": [
    "## What is the earliest month in this dataset?\n",
    "\n",
    "We only have one reading per month, so you could also read this as \"what is the earliest date in the dataset\""
   ]
  },
  {
   "cell_type": "code",
   "execution_count": null,
   "id": "9dfd66cc",
   "metadata": {},
   "outputs": [],
   "source": []
  },
  {
   "cell_type": "markdown",
   "id": "2cd14f08",
   "metadata": {},
   "source": [
    "## What is the most recent month in this dataset?\n",
    "\n",
    "We only have one reading per month, so you could also read this as \"what is the earliest date in the dataset\""
   ]
  },
  {
   "cell_type": "code",
   "execution_count": null,
   "id": "80d23da2",
   "metadata": {},
   "outputs": [],
   "source": []
  },
  {
   "cell_type": "markdown",
   "id": "0a55273d",
   "metadata": {},
   "source": [
    "## What 3 months had the highest high lumber price?"
   ]
  },
  {
   "cell_type": "code",
   "execution_count": null,
   "id": "e55f3521",
   "metadata": {},
   "outputs": [],
   "source": []
  },
  {
   "cell_type": "code",
   "execution_count": null,
   "id": "0e5cf127",
   "metadata": {},
   "outputs": [],
   "source": []
  },
  {
   "cell_type": "markdown",
   "id": "ecf489fb",
   "metadata": {},
   "source": [
    "## What 3 months had the lowest low lumber price?"
   ]
  },
  {
   "cell_type": "code",
   "execution_count": null,
   "id": "6fc40fef",
   "metadata": {},
   "outputs": [],
   "source": []
  },
  {
   "cell_type": "code",
   "execution_count": null,
   "id": "ddcccea4",
   "metadata": {},
   "outputs": [],
   "source": []
  },
  {
   "cell_type": "markdown",
   "id": "843b2f36",
   "metadata": {},
   "source": [
    "## What is the median \"high\" lumber price in our dataset?"
   ]
  },
  {
   "cell_type": "code",
   "execution_count": null,
   "id": "d7d69d6b",
   "metadata": {},
   "outputs": [],
   "source": []
  },
  {
   "cell_type": "markdown",
   "id": "8dcb415a",
   "metadata": {},
   "source": [
    "## What is the median \"low\" lumber price in our dataset?"
   ]
  },
  {
   "cell_type": "code",
   "execution_count": null,
   "id": "f783e687",
   "metadata": {},
   "outputs": [],
   "source": []
  },
  {
   "cell_type": "markdown",
   "id": "b2e6b0ea",
   "metadata": {},
   "source": [
    "## Plot the maximum \"high\" lumber price on an annual basis."
   ]
  },
  {
   "cell_type": "code",
   "execution_count": null,
   "id": "78759a14",
   "metadata": {},
   "outputs": [],
   "source": []
  },
  {
   "cell_type": "code",
   "execution_count": null,
   "id": "d7db2b63",
   "metadata": {},
   "outputs": [],
   "source": []
  },
  {
   "cell_type": "markdown",
   "id": "898b6df0",
   "metadata": {},
   "source": [
    "## Plot the lowest \"low\" lumber price on an annual basis."
   ]
  },
  {
   "cell_type": "code",
   "execution_count": null,
   "id": "007ed835",
   "metadata": {},
   "outputs": [],
   "source": []
  },
  {
   "cell_type": "markdown",
   "id": "a507d8a6",
   "metadata": {},
   "source": [
    "## What month in our dataset had the largest swing between high and low?\n",
    "\n",
    "You'll want to create a new column for this one"
   ]
  },
  {
   "cell_type": "code",
   "execution_count": null,
   "id": "4178d51c",
   "metadata": {},
   "outputs": [],
   "source": []
  },
  {
   "cell_type": "code",
   "execution_count": null,
   "id": "42d3445c",
   "metadata": {},
   "outputs": [],
   "source": []
  },
  {
   "cell_type": "markdown",
   "id": "dd08822c",
   "metadata": {},
   "source": [
    "## In how many months did lumber prices rise?\n",
    "\n",
    "If the price was greater at the end of the month than the beginning of the month, we'll say the price rose."
   ]
  },
  {
   "cell_type": "code",
   "execution_count": null,
   "id": "e6549397",
   "metadata": {},
   "outputs": [],
   "source": []
  },
  {
   "cell_type": "code",
   "execution_count": null,
   "id": "696becea",
   "metadata": {},
   "outputs": [],
   "source": []
  },
  {
   "cell_type": "markdown",
   "id": "28594336",
   "metadata": {},
   "source": [
    "## How many months did lumber prices drop?\n",
    "\n",
    "If the price was lower at the end of the month than the beginning of the month, we'll say the price dropped."
   ]
  },
  {
   "cell_type": "code",
   "execution_count": null,
   "id": "d94f1cfc",
   "metadata": {},
   "outputs": [],
   "source": []
  },
  {
   "cell_type": "markdown",
   "id": "3c8b4471",
   "metadata": {},
   "source": [
    "## In 2020, how many months saw lumber prices rise vs lumber prices fall?"
   ]
  },
  {
   "cell_type": "code",
   "execution_count": null,
   "id": "22afd8cf",
   "metadata": {},
   "outputs": [],
   "source": []
  },
  {
   "cell_type": "markdown",
   "id": "3b98b6d5",
   "metadata": {},
   "source": [
    "## In 2000, how many months saw lumber prices rise vs lumber prices fall?"
   ]
  },
  {
   "cell_type": "code",
   "execution_count": null,
   "id": "534265d7",
   "metadata": {},
   "outputs": [],
   "source": []
  },
  {
   "cell_type": "code",
   "execution_count": null,
   "id": "ff514b44",
   "metadata": {},
   "outputs": [],
   "source": []
  }
 ],
 "metadata": {
  "kernelspec": {
   "display_name": "Python 3 (ipykernel)",
   "language": "python",
   "name": "python3"
  },
  "language_info": {
   "codemirror_mode": {
    "name": "ipython",
    "version": 3
   },
   "file_extension": ".py",
   "mimetype": "text/x-python",
   "name": "python",
   "nbconvert_exporter": "python",
   "pygments_lexer": "ipython3",
   "version": "3.10.3"
  }
 },
 "nbformat": 4,
 "nbformat_minor": 5
}
