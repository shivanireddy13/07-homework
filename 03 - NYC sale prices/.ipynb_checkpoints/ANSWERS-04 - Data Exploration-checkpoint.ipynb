{
 "cells": [
  {
   "cell_type": "markdown",
   "id": "bd51eaa9",
   "metadata": {},
   "source": [
    "# Back to analysis!\n",
    "\n",
    "Open up `merged.csv` with `read_csv`. Use `parse_dates=['sale_datetime']` so automatically read in that column as a datetime. You'll also want to clean up the column names."
   ]
  },
  {
   "cell_type": "code",
   "execution_count": 4,
   "id": "ce9fd9a1",
   "metadata": {},
   "outputs": [
    {
     "data": {
      "text/html": [
       "<div>\n",
       "<style scoped>\n",
       "    .dataframe tbody tr th:only-of-type {\n",
       "        vertical-align: middle;\n",
       "    }\n",
       "\n",
       "    .dataframe tbody tr th {\n",
       "        vertical-align: top;\n",
       "    }\n",
       "\n",
       "    .dataframe thead th {\n",
       "        text-align: right;\n",
       "    }\n",
       "</style>\n",
       "<table border=\"1\" class=\"dataframe\">\n",
       "  <thead>\n",
       "    <tr style=\"text-align: right;\">\n",
       "      <th></th>\n",
       "      <th>borough</th>\n",
       "      <th>neighborhood</th>\n",
       "      <th>building_class_category</th>\n",
       "      <th>tax_class_at_present</th>\n",
       "      <th>block</th>\n",
       "      <th>lot</th>\n",
       "      <th>ease-ment</th>\n",
       "      <th>building_class_at_present</th>\n",
       "      <th>address</th>\n",
       "      <th>apartment_number</th>\n",
       "      <th>...</th>\n",
       "      <th>land_square_feet</th>\n",
       "      <th>gross_square_feet</th>\n",
       "      <th>year_built</th>\n",
       "      <th>tax_class_at_time_of_sale</th>\n",
       "      <th>building_class_at_time_of_sale</th>\n",
       "      <th>sale_price</th>\n",
       "      <th>sale_date</th>\n",
       "      <th>sale_datetime</th>\n",
       "      <th>building_code</th>\n",
       "      <th>description</th>\n",
       "    </tr>\n",
       "  </thead>\n",
       "  <tbody>\n",
       "    <tr>\n",
       "      <th>0</th>\n",
       "      <td>3</td>\n",
       "      <td>BATH BEACH</td>\n",
       "      <td>01  ONE FAMILY HOMES</td>\n",
       "      <td>1</td>\n",
       "      <td>6361</td>\n",
       "      <td>19</td>\n",
       "      <td>NaN</td>\n",
       "      <td>A5</td>\n",
       "      <td>51 BAY 10TH   STREET</td>\n",
       "      <td>NaN</td>\n",
       "      <td>...</td>\n",
       "      <td>1933.0</td>\n",
       "      <td>1660.0</td>\n",
       "      <td>1930.0</td>\n",
       "      <td>1</td>\n",
       "      <td>A5</td>\n",
       "      <td>649000</td>\n",
       "      <td>2007-08-31 00:00:00</td>\n",
       "      <td>2007-08-31</td>\n",
       "      <td>A5</td>\n",
       "      <td>ONE FAMILY ATTACHED OR SEMI-DETACHED</td>\n",
       "    </tr>\n",
       "    <tr>\n",
       "      <th>1</th>\n",
       "      <td>3</td>\n",
       "      <td>BATH BEACH</td>\n",
       "      <td>01  ONE FAMILY HOMES</td>\n",
       "      <td>1</td>\n",
       "      <td>6363</td>\n",
       "      <td>37</td>\n",
       "      <td>NaN</td>\n",
       "      <td>A5</td>\n",
       "      <td>8611 16TH   AVENUE</td>\n",
       "      <td>NaN</td>\n",
       "      <td>...</td>\n",
       "      <td>1893.0</td>\n",
       "      <td>1714.0</td>\n",
       "      <td>1930.0</td>\n",
       "      <td>1</td>\n",
       "      <td>A5</td>\n",
       "      <td>520000</td>\n",
       "      <td>2007-05-22 00:00:00</td>\n",
       "      <td>2007-05-22</td>\n",
       "      <td>A5</td>\n",
       "      <td>ONE FAMILY ATTACHED OR SEMI-DETACHED</td>\n",
       "    </tr>\n",
       "    <tr>\n",
       "      <th>2</th>\n",
       "      <td>3</td>\n",
       "      <td>BATH BEACH</td>\n",
       "      <td>01  ONE FAMILY HOMES</td>\n",
       "      <td>1</td>\n",
       "      <td>6375</td>\n",
       "      <td>65</td>\n",
       "      <td>NaN</td>\n",
       "      <td>C0</td>\n",
       "      <td>68 BAY 25TH STREET</td>\n",
       "      <td>NaN</td>\n",
       "      <td>...</td>\n",
       "      <td>1740.0</td>\n",
       "      <td>1890.0</td>\n",
       "      <td>1930.0</td>\n",
       "      <td>1</td>\n",
       "      <td>A5</td>\n",
       "      <td>490000</td>\n",
       "      <td>2007-10-30 00:00:00</td>\n",
       "      <td>2007-10-30</td>\n",
       "      <td>A5</td>\n",
       "      <td>ONE FAMILY ATTACHED OR SEMI-DETACHED</td>\n",
       "    </tr>\n",
       "  </tbody>\n",
       "</table>\n",
       "<p>3 rows × 24 columns</p>\n",
       "</div>"
      ],
      "text/plain": [
       "   borough neighborhood building_class_category tax_class_at_present  block  \\\n",
       "0        3   BATH BEACH    01  ONE FAMILY HOMES                    1   6361   \n",
       "1        3   BATH BEACH    01  ONE FAMILY HOMES                    1   6363   \n",
       "2        3   BATH BEACH    01  ONE FAMILY HOMES                    1   6375   \n",
       "\n",
       "   lot  ease-ment building_class_at_present               address  \\\n",
       "0   19        NaN                        A5  51 BAY 10TH   STREET   \n",
       "1   37        NaN                        A5    8611 16TH   AVENUE   \n",
       "2   65        NaN                        C0    68 BAY 25TH STREET   \n",
       "\n",
       "  apartment_number  ...  land_square_feet  gross_square_feet  year_built  \\\n",
       "0              NaN  ...            1933.0             1660.0      1930.0   \n",
       "1              NaN  ...            1893.0             1714.0      1930.0   \n",
       "2              NaN  ...            1740.0             1890.0      1930.0   \n",
       "\n",
       "   tax_class_at_time_of_sale  building_class_at_time_of_sale  sale_price  \\\n",
       "0                          1                              A5      649000   \n",
       "1                          1                              A5      520000   \n",
       "2                          1                              A5      490000   \n",
       "\n",
       "             sale_date  sale_datetime building_code  \\\n",
       "0  2007-08-31 00:00:00     2007-08-31            A5   \n",
       "1  2007-05-22 00:00:00     2007-05-22            A5   \n",
       "2  2007-10-30 00:00:00     2007-10-30            A5   \n",
       "\n",
       "                            description  \n",
       "0  ONE FAMILY ATTACHED OR SEMI-DETACHED  \n",
       "1  ONE FAMILY ATTACHED OR SEMI-DETACHED  \n",
       "2  ONE FAMILY ATTACHED OR SEMI-DETACHED  \n",
       "\n",
       "[3 rows x 24 columns]"
      ]
     },
     "execution_count": 4,
     "metadata": {},
     "output_type": "execute_result"
    }
   ],
   "source": [
    "import pandas as pd\n",
    "\n",
    "df = pd.read_csv(\"merged.csv\", parse_dates=['sale_datetime'])\n",
    "df.columns = df.columns.str.lower().str.replace(\" \", \"_\")\n",
    "df.head(3)"
   ]
  },
  {
   "cell_type": "markdown",
   "id": "295e6f04",
   "metadata": {},
   "source": [
    "## Using our newfound knowledge\n",
    "\n",
    "Now we know that there are all sorts of weird things in the dataset - $0 sales, parking lots, etc etc.\n",
    "\n",
    "**Show me the average price of a single-family home over time.** Median prices over every month or quarterly or something like that. Don't include anything that sold for $0!\n",
    "\n",
    "* **Tip:** `.str.startswith` will let you pick sales with a building code that *starts with* `A`, the single-family-home code."
   ]
  },
  {
   "cell_type": "code",
   "execution_count": 5,
   "id": "b5945670",
   "metadata": {},
   "outputs": [
    {
     "data": {
      "text/plain": [
       "<AxesSubplot:xlabel='sale_datetime'>"
      ]
     },
     "execution_count": 5,
     "metadata": {},
     "output_type": "execute_result"
    },
    {
     "data": {
      "image/png": "[encoded data removed]",
      "text/plain": [
       "<Figure size 640x480 with 1 Axes>"
      ]
     },
     "metadata": {},
     "output_type": "display_data"
    }
   ],
   "source": [
    "df[(df.sale_price > 0) & df.building_code.str.startswith(\"A\")].resample('M', on='sale_datetime').sale_price.median().plot(ylim=(0, 1000000))"
   ]
  },
  {
   "cell_type": "markdown",
   "id": "34a8e893",
   "metadata": {},
   "source": [
    "What has happened since 2013 or so should look a *little terrifying*.\n",
    "\n",
    "For a litle extra spice please refer to [this piece about asking New York mayoral candidates what the average home price is in Brooklyn](https://www.nytimes.com/2021/05/11/nyregion/median-home-brooklyn-mayor.html)."
   ]
  },
  {
   "cell_type": "markdown",
   "id": "9b05a498",
   "metadata": {},
   "source": [
    "# Okay, your move\n",
    "\n",
    "No, you probably don't know anything about New York home prices. Or parking lot prices. Or say, whether mixed use homes with families living above stores should be expected to be sold more or less frequently than purely retail buildings.\n",
    "\n",
    "But I'm a horrible, mean boss, and I'm telling you: **do a little analysis and pitch me two things that might be interesting to research in this dataset.** I'm not actually going to make you pursue any of this, but I'd like to see how creative you can be.\n",
    "\n",
    "The lowest-hanging fruit involves putting things into groups and comparing them. Put sales into groups based on neighborhoods,  compare sale prices. Compare pre-COVID to during-COVID and frequency of sales. Etc etc etc. Spend time [reading through the list of building classifications](https://www1.nyc.gov/assets/finance/jump/hlpbldgcode.html).\n",
    "\n",
    "Narrowing down also helps. Cut the data into just being the few types of theaters, or the single-family homes we looked at before. How about the $0 sales? What about locations that had their building class change between the time of sale and the current day, e.g. are all kinds of warehouses being rezoned as residential?\n",
    "\n",
    "**Down below I expect to see a good amount of filtering, groupby, maybe some resampling, and whatever other types of poking around one might do.** You don't pitch based on a feeling in your heart, you pitch based on what the data looks like plus a few lines of code that built out exploratory analysis, and then you do the real research and interviews later on.\n",
    "\n",
    "Do a little drilling into the data and try to find some potential leads."
   ]
  },
  {
   "cell_type": "code",
   "execution_count": null,
   "id": "e24a96f6",
   "metadata": {},
   "outputs": [],
   "source": []
  }
 ],
 "metadata": {
  "kernelspec": {
   "display_name": "Python 3 (ipykernel)",
   "language": "python",
   "name": "python3"
  },
  "language_info": {
   "codemirror_mode": {
    "name": "ipython",
    "version": 3
   },
   "file_extension": ".py",
   "mimetype": "text/x-python",
   "name": "python",
   "nbconvert_exporter": "python",
   "pygments_lexer": "ipython3",
   "version": "3.10.3"
  }
 },
 "nbformat": 4,
 "nbformat_minor": 5
}
