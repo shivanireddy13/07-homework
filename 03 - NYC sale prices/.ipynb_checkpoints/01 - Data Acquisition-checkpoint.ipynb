{
 "cells": [
  {
   "cell_type": "markdown",
   "id": "9f47ab87",
   "metadata": {},
   "source": [
    "# Scrape sale price documents for Brooklyn homes\n",
    "\n",
    "## Build a list of documents we would like to download\n",
    "\n",
    "Visit https://www.nyc.gov/site/finance/taxes/property-annualized-sales-update.page and peek under \"Detailed Annual Sales Reports by Borough.\" We want to build a list of all of the excel files that link to **one borough**. It's your choice - Manhattan, Brooklyn, Staten Island, etc.\n",
    "\n",
    "* _**Tip:** You can basically cut and paste from the end of class on this one_\n",
    "* _**Tip:** 2017 and earlier files are `.xls`, not `.xlsx`_"
   ]
  },
  {
   "cell_type": "code",
   "execution_count": null,
   "id": "b97b5445",
   "metadata": {},
   "outputs": [],
   "source": []
  },
  {
   "cell_type": "code",
   "execution_count": null,
   "id": "29c7eca6",
   "metadata": {},
   "outputs": [],
   "source": []
  },
  {
   "cell_type": "code",
   "execution_count": null,
   "id": "1cc3188a",
   "metadata": {},
   "outputs": [],
   "source": []
  },
  {
   "cell_type": "markdown",
   "id": "0933c104",
   "metadata": {},
   "source": [
    "## Use Python to make a list of the URLs to be downloaded, and save them to a file.\n",
    "\n",
    "The format is a _little_ different than what we did in class, as `/` at the beginning of a url means \"start from the top of the domain\" instead of \"start relative to the page you're on now.\" Just examine your URLs and you'll notice it.\n",
    "\n",
    "_**Tip:** If you want to google around at other ways to do this, the `'\\n'.join(urls)` method might be an interesting one to look at._"
   ]
  },
  {
   "cell_type": "code",
   "execution_count": null,
   "id": "e724fd65",
   "metadata": {},
   "outputs": [],
   "source": []
  },
  {
   "cell_type": "code",
   "execution_count": null,
   "id": "4f775249",
   "metadata": {},
   "outputs": [],
   "source": []
  },
  {
   "cell_type": "markdown",
   "id": "a8d3ce05",
   "metadata": {},
   "source": [
    "## Download the Excel files with `wget` or `curl`\n",
    "\n",
    "You can see what I did in class, but `wget` has an option to provide it with a filename to download al ist of files from."
   ]
  },
  {
   "cell_type": "code",
   "execution_count": null,
   "id": "e24a96f6",
   "metadata": {},
   "outputs": [],
   "source": []
  }
 ],
 "metadata": {
  "kernelspec": {
   "display_name": "Python 3 (ipykernel)",
   "language": "python",
   "name": "python3"
  },
  "language_info": {
   "codemirror_mode": {
    "name": "ipython",
    "version": 3
   },
   "file_extension": ".py",
   "mimetype": "text/x-python",
   "name": "python",
   "nbconvert_exporter": "python",
   "pygments_lexer": "ipython3",
   "version": "3.10.3"
  }
 },
 "nbformat": 4,
 "nbformat_minor": 5
}
