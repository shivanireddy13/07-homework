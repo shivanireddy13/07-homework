{
 "cells": [
  {
   "cell_type": "markdown",
   "id": "9f47ab87",
   "metadata": {},
   "source": [
    "# Scrape sale price documents for Brooklyn homes\n",
    "\n",
    "## Build a list of documents we would like to download\n",
    "\n",
    "Visit https://www.nyc.gov/site/finance/taxes/property-annualized-sales-update.page and peek under \"Detailed Annual Sales Reports by Borough.\" We want to build a list of all of the excel files that link to **one borough**. It's your choice - Manhattan, Brooklyn, Staten Island, etc.\n",
    "\n",
    "* _**Tip:** You can basically cut and paste from the end of class on this one_\n",
    "* _**Tip:** 2017 and earlier files are `.xls`, not `.xlsx`_"
   ]
  },
  {
   "cell_type": "code",
   "execution_count": 23,
   "id": "b97b5445",
   "metadata": {},
   "outputs": [],
   "source": [
    "import requests\n",
    "from bs4 import BeautifulSoup"
   ]
  },
  {
   "cell_type": "code",
   "execution_count": 24,
   "id": "29c7eca6",
   "metadata": {},
   "outputs": [],
   "source": [
    "response = requests.get(\"https://www.nyc.gov/site/finance/taxes/property-annualized-sales-update.page\")\n",
    "doc = BeautifulSoup(response.text)"
   ]
  },
  {
   "cell_type": "code",
   "execution_count": 25,
   "id": "1cc3188a",
   "metadata": {},
   "outputs": [
    {
     "data": {
      "text/plain": [
       "[<a href=\"/assets/finance/downloads/pdf/rolling_sales/annualized-sales/2021/2021_brooklyn.xlsx\" target=\"_blank\">Download</a>,\n",
       " <a href=\"/assets/finance/downloads/pdf/rolling_sales/annualized-sales/2020/2020_brooklyn.xlsx\" target=\"_blank\">Download</a>,\n",
       " <a href=\"/assets/finance/downloads/pdf/rolling_sales/annualized-sales/2019/2019_brooklyn.xlsx\" target=\"_blank\">Download</a>,\n",
       " <a href=\"/assets/finance/downloads/pdf/rolling_sales/annualized-sales/2018/2018_brooklyn.xlsx\" target=\"_blank\">Download</a>,\n",
       " <a href=\"/assets/finance/downloads/pdf/rolling_sales/annualized-sales/2017/2017_brooklyn.xls\" target=\"_blank\">Download</a>,\n",
       " <a href=\"/assets/finance/downloads/pdf/rolling_sales/annualized-sales/2016/2016_brooklyn.xls\" target=\"_blank\">Download</a>,\n",
       " <a href=\"/assets/finance/downloads/pdf/rolling_sales/annualized-sales/2015/2015_brooklyn.xls\" target=\"_blank\">Download</a>,\n",
       " <a href=\"/assets/finance/downloads/pdf/rolling_sales/annualized-sales/2014/2014_brooklyn.xls\" target=\"_blank\">Download</a>,\n",
       " <a href=\"/assets/finance/downloads/pdf/rolling_sales/annualized-sales/2013/2013_brooklyn.xls\" target=\"_blank\">7.M</a>,\n",
       " <a href=\"/assets/finance/downloads/pdf/rolling_sales/annualized-sales/2012/2012_brooklyn.xls\" target=\"_blank\">5.96M</a>,\n",
       " <a href=\"/assets/finance/downloads/pdf/rolling_sales/annualized-sales/2011/2011_brooklyn.xls\" target=\"_blank\">5.66M</a>,\n",
       " <a href=\"/assets/finance/downloads/pdf/rolling_sales/annualized-sales/2010/2010_brooklyn.xls\" target=\"_blank\">5.50M</a>,\n",
       " <a href=\"/assets/finance/downloads/pdf/rolling_sales/annualized-sales/2009_brooklyn.xls\" target=\"_blank\">5.45M</a>,\n",
       " <a href=\"/assets/finance/downloads/pdf/09pdf/rolling_sales/sales_2008_brooklyn.xls\" target=\"_blank\">5.55M</a>,\n",
       " <a href=\"/assets/finance/downloads/excel/rolling_sales/sales_2007_brooklyn.xls\" target=\"_blank\">7.23M</a>]"
      ]
     },
     "execution_count": 25,
     "metadata": {},
     "output_type": "execute_result"
    }
   ],
   "source": [
    "links = doc.select(\"a[href*='_brooklyn.xls']\")\n",
    "links"
   ]
  },
  {
   "cell_type": "markdown",
   "id": "0933c104",
   "metadata": {},
   "source": [
    "## Use Python to make a list of the URLs to be downloaded, and save them to a file.\n",
    "\n",
    "The format is a _little_ different than what we did in class, as `/` at the beginning of a url means \"start from the top of the domain\" instead of \"start relative to the page you're on now.\" Just examine your URLs and you'll notice it.\n",
    "\n",
    "_**Tip:** If you want to google around at other ways to do this, the `'\\n'.join(urls)` method might be an interesting one to look at._"
   ]
  },
  {
   "cell_type": "code",
   "execution_count": 27,
   "id": "e724fd65",
   "metadata": {},
   "outputs": [
    {
     "data": {
      "text/plain": [
       "['https://www.nyc.gov/assets/finance/downloads/pdf/rolling_sales/annualized-sales/2021/2021_brooklyn.xlsx',\n",
       " 'https://www.nyc.gov/assets/finance/downloads/pdf/rolling_sales/annualized-sales/2020/2020_brooklyn.xlsx',\n",
       " 'https://www.nyc.gov/assets/finance/downloads/pdf/rolling_sales/annualized-sales/2019/2019_brooklyn.xlsx']"
      ]
     },
     "execution_count": 27,
     "metadata": {},
     "output_type": "execute_result"
    }
   ],
   "source": [
    "urls = ['https://www.nyc.gov' + link['href'] for link in links]\n",
    "urls[:3]"
   ]
  },
  {
   "cell_type": "code",
   "execution_count": 28,
   "id": "4f775249",
   "metadata": {},
   "outputs": [],
   "source": [
    "with open(\"urls.txt\", \"w\") as fp:\n",
    "    for url in urls:\n",
    "        fp.write(url + \"\\n\")"
   ]
  },
  {
   "cell_type": "markdown",
   "id": "a8d3ce05",
   "metadata": {},
   "source": [
    "## Download the Excel files with `wget` or `curl`\n",
    "\n",
    "You can see what I did in class, but `wget` has an option to provide it with a filename to download al ist of files from."
   ]
  },
  {
   "cell_type": "code",
   "execution_count": 29,
   "id": "058b28d4",
   "metadata": {},
   "outputs": [
    {
     "name": "stdout",
     "output_type": "stream",
     "text": [
      "--2022-11-16 13:38:44--  https://www.nyc.gov/assets/finance/downloads/pdf/rolling_sales/annualized-sales/2021/2021_brooklyn.xlsx\n",
      "Resolving www.nyc.gov (www.nyc.gov)... 104.70.72.36\n",
      "Connecting to www.nyc.gov (www.nyc.gov)|104.70.72.36|:443... connected.\n",
      "HTTP request sent, awaiting response... 200 OK\n",
      "Length: 3212511 (3.1M) [application/vnd.openxmlformats-officedocument.spreadsheetml.sheet]\n",
      "Saving to: ‘2021_brooklyn.xlsx’\n",
      "\n",
      "2021_brooklyn.xlsx  100%[===================>]   3.06M  6.16MB/s    in 0.5s    \n",
      "\n",
      "2022-11-16 13:38:45 (6.16 MB/s) - ‘2021_brooklyn.xlsx’ saved [3212511/3212511]\n",
      "\n",
      "--2022-11-16 13:38:45--  https://www.nyc.gov/assets/finance/downloads/pdf/rolling_sales/annualized-sales/2020/2020_brooklyn.xlsx\n",
      "Reusing existing connection to www.nyc.gov:443.\n",
      "HTTP request sent, awaiting response... 200 OK\n",
      "Length: 2277851 (2.2M) [application/vnd.openxmlformats-officedocument.spreadsheetml.sheet]\n",
      "Saving to: ‘2020_brooklyn.xlsx’\n",
      "\n",
      "2020_brooklyn.xlsx  100%[===================>]   2.17M  5.57MB/s    in 0.4s    \n",
      "\n",
      "2022-11-16 13:38:45 (5.57 MB/s) - ‘2020_brooklyn.xlsx’ saved [2277851/2277851]\n",
      "\n",
      "--2022-11-16 13:38:45--  https://www.nyc.gov/assets/finance/downloads/pdf/rolling_sales/annualized-sales/2019/2019_brooklyn.xlsx\n",
      "Reusing existing connection to www.nyc.gov:443.\n",
      "HTTP request sent, awaiting response... 200 OK\n",
      "Length: 2633331 (2.5M) [application/vnd.openxmlformats-officedocument.spreadsheetml.sheet]\n",
      "Saving to: ‘2019_brooklyn.xlsx’\n",
      "\n",
      "2019_brooklyn.xlsx  100%[===================>]   2.51M  11.7MB/s    in 0.2s    \n",
      "\n",
      "2022-11-16 13:38:46 (11.7 MB/s) - ‘2019_brooklyn.xlsx’ saved [2633331/2633331]\n",
      "\n",
      "--2022-11-16 13:38:46--  https://www.nyc.gov/assets/finance/downloads/pdf/rolling_sales/annualized-sales/2018/2018_brooklyn.xlsx\n",
      "Reusing existing connection to www.nyc.gov:443.\n",
      "HTTP request sent, awaiting response... 200 OK\n",
      "Length: 2879140 (2.7M) [application/vnd.openxmlformats-officedocument.spreadsheetml.sheet]\n",
      "Saving to: ‘2018_brooklyn.xlsx’\n",
      "\n",
      "2018_brooklyn.xlsx  100%[===================>]   2.75M  7.19MB/s    in 0.4s    \n",
      "\n",
      "2022-11-16 13:38:46 (7.19 MB/s) - ‘2018_brooklyn.xlsx’ saved [2879140/2879140]\n",
      "\n",
      "--2022-11-16 13:38:46--  https://www.nyc.gov/assets/finance/downloads/pdf/rolling_sales/annualized-sales/2017/2017_brooklyn.xls\n",
      "Reusing existing connection to www.nyc.gov:443.\n",
      "HTTP request sent, awaiting response... 200 OK\n",
      "Length: 6566400 (6.3M) [application/vnd.ms-excel]\n",
      "Saving to: ‘2017_brooklyn.xls’\n",
      "\n",
      "2017_brooklyn.xls   100%[===================>]   6.26M  7.65MB/s    in 0.8s    \n",
      "\n",
      "2022-11-16 13:38:47 (7.65 MB/s) - ‘2017_brooklyn.xls’ saved [6566400/6566400]\n",
      "\n",
      "--2022-11-16 13:38:47--  https://www.nyc.gov/assets/finance/downloads/pdf/rolling_sales/annualized-sales/2016/2016_brooklyn.xls\n",
      "Reusing existing connection to www.nyc.gov:443.\n",
      "HTTP request sent, awaiting response... 200 OK\n",
      "Length: 7247872 (6.9M) [application/vnd.ms-excel]\n",
      "Saving to: ‘2016_brooklyn.xls’\n",
      "\n",
      "2016_brooklyn.xls   100%[===================>]   6.91M  9.08MB/s    in 0.8s    \n",
      "\n",
      "2022-11-16 13:38:48 (9.08 MB/s) - ‘2016_brooklyn.xls’ saved [7247872/7247872]\n",
      "\n",
      "--2022-11-16 13:38:48--  https://www.nyc.gov/assets/finance/downloads/pdf/rolling_sales/annualized-sales/2015/2015_brooklyn.xls\n",
      "Reusing existing connection to www.nyc.gov:443.\n",
      "HTTP request sent, awaiting response... 200 OK\n",
      "Length: 7196672 (6.9M) [application/vnd.ms-excel]\n",
      "Saving to: ‘2015_brooklyn.xls’\n",
      "\n",
      "2015_brooklyn.xls   100%[===================>]   6.86M  9.13MB/s    in 0.8s    \n",
      "\n",
      "2022-11-16 13:38:49 (9.13 MB/s) - ‘2015_brooklyn.xls’ saved [7196672/7196672]\n",
      "\n",
      "--2022-11-16 13:38:49--  https://www.nyc.gov/assets/finance/downloads/pdf/rolling_sales/annualized-sales/2014/2014_brooklyn.xls\n",
      "Reusing existing connection to www.nyc.gov:443.\n",
      "HTTP request sent, awaiting response... 200 OK\n",
      "Length: 7180800 (6.8M) [application/vnd.ms-excel]\n",
      "Saving to: ‘2014_brooklyn.xls’\n",
      "\n",
      "2014_brooklyn.xls   100%[===================>]   6.85M  12.0MB/s    in 0.6s    \n",
      "\n",
      "2022-11-16 13:38:50 (12.0 MB/s) - ‘2014_brooklyn.xls’ saved [7180800/7180800]\n",
      "\n",
      "--2022-11-16 13:38:50--  https://www.nyc.gov/assets/finance/downloads/pdf/rolling_sales/annualized-sales/2013/2013_brooklyn.xls\n",
      "Reusing existing connection to www.nyc.gov:443.\n",
      "HTTP request sent, awaiting response... 200 OK\n",
      "Length: 7141888 (6.8M) [application/vnd.ms-excel]\n",
      "Saving to: ‘2013_brooklyn.xls’\n",
      "\n",
      "2013_brooklyn.xls   100%[===================>]   6.81M  9.14MB/s    in 0.7s    \n",
      "\n",
      "2022-11-16 13:38:50 (9.14 MB/s) - ‘2013_brooklyn.xls’ saved [7141888/7141888]\n",
      "\n",
      "--2022-11-16 13:38:50--  https://www.nyc.gov/assets/finance/downloads/pdf/rolling_sales/annualized-sales/2012/2012_brooklyn.xls\n",
      "Reusing existing connection to www.nyc.gov:443.\n",
      "HTTP request sent, awaiting response... 200 OK\n",
      "Length: 6748672 (6.4M) [application/vnd.ms-excel]\n",
      "Saving to: ‘2012_brooklyn.xls’\n",
      "\n",
      "2012_brooklyn.xls   100%[===================>]   6.44M  8.08MB/s    in 0.8s    \n",
      "\n",
      "2022-11-16 13:38:51 (8.08 MB/s) - ‘2012_brooklyn.xls’ saved [6748672/6748672]\n",
      "\n",
      "--2022-11-16 13:38:51--  https://www.nyc.gov/assets/finance/downloads/pdf/rolling_sales/annualized-sales/2011/2011_brooklyn.xls\n",
      "Reusing existing connection to www.nyc.gov:443.\n",
      "HTTP request sent, awaiting response... 200 OK\n",
      "Length: 5794304 (5.5M) [application/vnd.ms-excel]\n",
      "Saving to: ‘2011_brooklyn.xls’\n",
      "\n",
      "2011_brooklyn.xls   100%[===================>]   5.53M  5.43MB/s    in 1.0s    \n",
      "\n",
      "2022-11-16 13:38:52 (5.43 MB/s) - ‘2011_brooklyn.xls’ saved [5794304/5794304]\n",
      "\n",
      "--2022-11-16 13:38:52--  https://www.nyc.gov/assets/finance/downloads/pdf/rolling_sales/annualized-sales/2010/2010_brooklyn.xls\n",
      "Reusing existing connection to www.nyc.gov:443.\n",
      "HTTP request sent, awaiting response... 200 OK\n",
      "Length: 5488128 (5.2M) [application/vnd.ms-excel]\n",
      "Saving to: ‘2010_brooklyn.xls’\n",
      "\n",
      "2010_brooklyn.xls   100%[===================>]   5.23M  6.75MB/s    in 0.8s    \n",
      "\n",
      "2022-11-16 13:38:54 (6.75 MB/s) - ‘2010_brooklyn.xls’ saved [5488128/5488128]\n",
      "\n",
      "--2022-11-16 13:38:54--  https://www.nyc.gov/assets/finance/downloads/pdf/rolling_sales/annualized-sales/2009_brooklyn.xls\n",
      "Reusing existing connection to www.nyc.gov:443.\n",
      "HTTP request sent, awaiting response... 200 OK\n",
      "Length: 5622784 (5.4M) [application/vnd.ms-excel]\n",
      "Saving to: ‘2009_brooklyn.xls’\n",
      "\n",
      "2009_brooklyn.xls   100%[===================>]   5.36M  8.30MB/s    in 0.6s    \n",
      "\n",
      "2022-11-16 13:38:54 (8.30 MB/s) - ‘2009_brooklyn.xls’ saved [5622784/5622784]\n",
      "\n",
      "--2022-11-16 13:38:54--  https://www.nyc.gov/assets/finance/downloads/pdf/09pdf/rolling_sales/sales_2008_brooklyn.xls\n",
      "Reusing existing connection to www.nyc.gov:443.\n",
      "HTTP request sent, awaiting response... 200 OK\n",
      "Length: 6692864 (6.4M) [application/vnd.ms-excel]\n",
      "Saving to: ‘sales_2008_brooklyn.xls’\n",
      "\n",
      "sales_2008_brooklyn 100%[===================>]   6.38M  11.1MB/s    in 0.6s    \n",
      "\n",
      "2022-11-16 13:38:55 (11.1 MB/s) - ‘sales_2008_brooklyn.xls’ saved [6692864/6692864]\n",
      "\n",
      "--2022-11-16 13:38:55--  https://www.nyc.gov/assets/finance/downloads/excel/rolling_sales/sales_2007_brooklyn.xls\n",
      "Reusing existing connection to www.nyc.gov:443.\n",
      "HTTP request sent, awaiting response... 200 OK\n",
      "Length: 8078848 (7.7M) [application/vnd.ms-excel]\n",
      "Saving to: ‘sales_2007_brooklyn.xls’\n",
      "\n",
      "sales_2007_brooklyn 100%[===================>]   7.70M  7.00MB/s    in 1.1s    \n",
      "\n",
      "2022-11-16 13:38:56 (7.00 MB/s) - ‘sales_2007_brooklyn.xls’ saved [8078848/8078848]\n",
      "\n",
      "FINISHED --2022-11-16 13:38:56--\n",
      "Total wall clock time: 12s\n",
      "Downloaded: 15 files, 81M in 10s (8.05 MB/s)\n"
     ]
    }
   ],
   "source": [
    "!wget -i urls.txt"
   ]
  },
  {
   "cell_type": "code",
   "execution_count": null,
   "id": "e24a96f6",
   "metadata": {},
   "outputs": [],
   "source": []
  }
 ],
 "metadata": {
  "kernelspec": {
   "display_name": "Python 3 (ipykernel)",
   "language": "python",
   "name": "python3"
  },
  "language_info": {
   "codemirror_mode": {
    "name": "ipython",
    "version": 3
   },
   "file_extension": ".py",
   "mimetype": "text/x-python",
   "name": "python",
   "nbconvert_exporter": "python",
   "pygments_lexer": "ipython3",
   "version": "3.10.3"
  }
 },
 "nbformat": 4,
 "nbformat_minor": 5
}
