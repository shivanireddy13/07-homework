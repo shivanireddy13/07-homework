{
 "cells": [
  {
   "cell_type": "markdown",
   "id": "bd51eaa9",
   "metadata": {},
   "source": [
    "# More analysis!\n",
    "\n",
    "Open up `merged.csv` with `read_csv`. Use `parse_dates=['sale_datetime']` so automatically read in that column as a datetime. You'll also want to clean up the column names."
   ]
  },
  {
   "cell_type": "code",
   "execution_count": null,
   "id": "ce9fd9a1",
   "metadata": {},
   "outputs": [],
   "source": []
  },
  {
   "cell_type": "markdown",
   "id": "295e6f04",
   "metadata": {},
   "source": [
    "## Using our newfound knowledge\n",
    "\n",
    "Now we know that there are all sorts of weird things in the dataset - $0 sales, parking lots, etc etc.\n",
    "\n",
    "**Show me the average price of a single-family home over time.** Median prices over every month or quarterly or something like that. Don't include anything that sold for $0!\n",
    "\n",
    "* **Tip:** `.str.startswith` will let you pick sales with a building code that *starts with* `A`, the single-family-home code."
   ]
  },
  {
   "cell_type": "code",
   "execution_count": null,
   "id": "b5945670",
   "metadata": {},
   "outputs": [],
   "source": []
  },
  {
   "cell_type": "markdown",
   "id": "34a8e893",
   "metadata": {},
   "source": [
    "What has happened since 2013 or so should look a *little terrifying*.\n",
    "\n",
    "For a litle extra spice please refer to [this piece about asking New York mayoral candidates what the average home price is in Brooklyn](https://www.nytimes.com/2021/05/11/nyregion/median-home-brooklyn-mayor.html)."
   ]
  },
  {
   "cell_type": "markdown",
   "id": "9b05a498",
   "metadata": {},
   "source": [
    "# Okay, your move\n",
    "\n",
    "No, you probably don't know anything about New York home prices. Or parking lot prices. Or say, whether mixed use homes with families living above stores should be expected to be sold more or less frequently than purely retail buildings.\n",
    "\n",
    "But I'm a horrible, mean boss, and I'm telling you: **do a little analysis and pitch me two things that might be interesting to research in this dataset.** I'm not actually going to make you pursue any of this, but I'd like to see how creative you can be.\n",
    "\n",
    "The lowest-hanging fruit involves putting things into groups and comparing them. Put sales into groups based on neighborhoods,  compare sale prices. Compare pre-COVID to during-COVID and frequency of sales. Etc etc etc. Spend time [reading through the list of building classifications](https://www1.nyc.gov/assets/finance/jump/hlpbldgcode.html).\n",
    "\n",
    "Narrowing down also helps. Cut the data into just being the few types of theaters, or the single-family homes we looked at before. How about the $0 sales? What about locations that had their building class change between the time of sale and the current day, e.g. are all kinds of warehouses being rezoned as residential?\n",
    "\n",
    "**Down below I expect to see a good amount of filtering, groupby, maybe some resampling, and whatever other types of poking around one might do.** You don't pitch based on a feeling in your heart, you pitch based on what the data looks like plus a few lines of code that built out exploratory analysis, and then you do the real research and interviews later on.\n",
    "\n",
    "Do a little drilling into the data and try to find some potential leads."
   ]
  },
  {
   "cell_type": "code",
   "execution_count": null,
   "id": "e24a96f6",
   "metadata": {},
   "outputs": [],
   "source": []
  }
 ],
 "metadata": {
  "kernelspec": {
   "display_name": "Python 3 (ipykernel)",
   "language": "python",
   "name": "python3"
  },
  "language_info": {
   "codemirror_mode": {
    "name": "ipython",
    "version": 3
   },
   "file_extension": ".py",
   "mimetype": "text/x-python",
   "name": "python",
   "nbconvert_exporter": "python",
   "pygments_lexer": "ipython3",
   "version": "3.10.3"
  }
 },
 "nbformat": 4,
 "nbformat_minor": 5
}
