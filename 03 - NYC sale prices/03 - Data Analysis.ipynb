{
 "cells": [
  {
   "cell_type": "markdown",
   "id": "96e78433",
   "metadata": {},
   "source": [
    "# The Analysis\n",
    "\n",
    "Begin by opening `cleaned.csv`. Make sure we can see all of the columns."
   ]
  },
  {
   "cell_type": "code",
   "execution_count": null,
   "id": "252e5991",
   "metadata": {},
   "outputs": [],
   "source": []
  },
  {
   "cell_type": "markdown",
   "id": "f38283ba",
   "metadata": {},
   "source": [
    "## Fix the column names\n",
    "\n",
    "Sigh, I don't like the whole \"GROSS SQUARE FEET\" kind of thing. Let's turn that into `gross_square_feet` (along with all the other columns). "
   ]
  },
  {
   "cell_type": "code",
   "execution_count": null,
   "id": "a4038120",
   "metadata": {},
   "outputs": [],
   "source": []
  },
  {
   "cell_type": "markdown",
   "id": "0ee01dd3",
   "metadata": {},
   "source": [
    "## Convert the sale date to a datetime using `pd.to_datetime`\n",
    "\n",
    "You could have also done it with `read_csv`! You can do `parse_dates=[...]` with a list of the dates you'd like to be turned into datetimes."
   ]
  },
  {
   "cell_type": "code",
   "execution_count": null,
   "id": "cd525771",
   "metadata": {},
   "outputs": [],
   "source": []
  },
  {
   "cell_type": "markdown",
   "id": "cdfb9f34",
   "metadata": {},
   "source": [
    "## I've heard house buying is seasonal, with no sales in the winter. Which months of the year have the highest number of home sales?\n",
    "\n",
    "Show me on a graph. Is my secondhand knowledge correct?"
   ]
  },
  {
   "cell_type": "code",
   "execution_count": null,
   "id": "c7bc98f9",
   "metadata": {},
   "outputs": [],
   "source": []
  },
  {
   "cell_type": "markdown",
   "id": "655f9f7b",
   "metadata": {},
   "source": [
    "## Hm. How about years? Is there a pattern there?\n",
    "\n",
    "I'd like to see a bar chart (columns) of number of homes sold each year."
   ]
  },
  {
   "cell_type": "code",
   "execution_count": null,
   "id": "e0019491",
   "metadata": {},
   "outputs": [],
   "source": []
  },
  {
   "cell_type": "markdown",
   "id": "3a0ac6b7",
   "metadata": {},
   "source": [
    "## That really reminds me of the [Great Recession](https://en.wikipedia.org/wiki/Great_Recession).\n",
    "\n",
    "I'd like a little more detail, though, the years are just so *lumpy*. Can I see the number of house sales on a monthly basis through the whole dataset?\n",
    "\n",
    "> I kept using `colname.count()` when we did this in class, which was a horrible habit of mine in like 2016. I got smarter later, and realized you can just use `.size()` to count the number of rows in each group.\n",
    "\n",
    "And please make sure the x axis starts at zero. It's really a misrepresentation of the truth if it starts at 750 or whatever matplotlib wants to do by default."
   ]
  },
  {
   "cell_type": "code",
   "execution_count": null,
   "id": "370b7414",
   "metadata": {},
   "outputs": [],
   "source": []
  },
  {
   "cell_type": "markdown",
   "id": "c14eb546",
   "metadata": {},
   "source": [
    "## That's still kind of rough. Can we smooth it out some more?\n",
    "\n",
    "I'd like to move from monthly house sales to something a little more spread out. Here are some frequency options from the pandas documentation:\n",
    "\n",
    "```\n",
    "B         business day frequency\n",
    "C         custom business day frequency (experimental)\n",
    "D         calendar day frequency\n",
    "W         weekly frequency\n",
    "M         month end frequency\n",
    "SM        semi-month end frequency (15th and end of month)\n",
    "BM        business month end frequency\n",
    "CBM       custom business month end frequency\n",
    "MS        month start frequency\n",
    "SMS       semi-month start frequency (1st and 15th)\n",
    "BMS       business month start frequency\n",
    "CBMS      custom business month start frequency\n",
    "Q         quarter end frequency\n",
    "BQ        business quarter endfrequency\n",
    "QS        quarter start frequency\n",
    "BQS       business quarter start frequency\n",
    "A         year end frequency\n",
    "BA, BY    business year end frequency\n",
    "AS, YS    year start frequency\n",
    "BAS, BYS  business year start frequency\n",
    "BH        business hour frequency\n",
    "H         hourly frequency\n",
    "T, min    minutely frequency\n",
    "S         secondly frequency\n",
    "L, ms     milliseconds\n",
    "U, us     microseconds\n",
    "N         nanoseconds\n",
    "```\n",
    "\n",
    "On top of just picking a frequency by itself, you can also add numbers! For example, `3A` is three years at a time, and `15D` is 15 days, etc. Maybe you could put that to use?"
   ]
  },
  {
   "cell_type": "code",
   "execution_count": null,
   "id": "4d2de835",
   "metadata": {},
   "outputs": [],
   "source": []
  },
  {
   "cell_type": "markdown",
   "id": "5933d5b3",
   "metadata": {},
   "source": [
    "Can you think of a better option than bundling this information in groups like this? Maybe from the cherry trees homework?"
   ]
  },
  {
   "cell_type": "markdown",
   "id": "08e23446",
   "metadata": {},
   "source": [
    "## But what about prices?\n",
    "\n",
    "I'm also pretty confident that "
   ]
  },
  {
   "cell_type": "code",
   "execution_count": null,
   "id": "867c31c5",
   "metadata": {},
   "outputs": [],
   "source": []
  },
  {
   "cell_type": "markdown",
   "id": "4bc75069",
   "metadata": {},
   "source": [
    "W... wait, what? What are those months where it seems like nothing was sold, or it was all sold for zero dollars? Let's find the top 20 months for lowest median sale price."
   ]
  },
  {
   "cell_type": "code",
   "execution_count": null,
   "id": "b7fb50a2",
   "metadata": {},
   "outputs": [],
   "source": []
  },
  {
   "cell_type": "markdown",
   "id": "0a9f402e",
   "metadata": {},
   "source": [
    "**??WHAT??**\n",
    "\n",
    "Did any houses even sell then???? Let's look at the sales on `2012-09-30`."
   ]
  },
  {
   "cell_type": "code",
   "execution_count": null,
   "id": "a83f8a12",
   "metadata": {},
   "outputs": [],
   "source": []
  },
  {
   "cell_type": "markdown",
   "id": "72d6a95f",
   "metadata": {},
   "source": [
    "## We've got a LOT of weird stuff going on here! There are all of these FREE houses?\n",
    "\n",
    "Let's calculate what percent of the time sale prices are zero.\n",
    "\n",
    "**Two approaches:**\n",
    "\n",
    "1. The low-tech approach is calculating the size of the entire dataset, then filtering for where sale price is zero and getting the size of that subset.\n",
    "2. The other approach (THAT I LOVE) takes two steps:\n",
    "    - Write the \"is your sale price 0?\" code, but don't feed it to `df[...]` yet. It should be giving you Trues and Falses.\n",
    "    - Put parens around your statement, then add `.value_counts()`. This does a `value_counts()` on your Trues and Falses, thus calculating how often it's zero and how often it isn't!!!"
   ]
  },
  {
   "cell_type": "code",
   "execution_count": null,
   "id": "1341f28c",
   "metadata": {},
   "outputs": [],
   "source": []
  },
  {
   "cell_type": "markdown",
   "id": "6f468edb",
   "metadata": {},
   "source": [
    "## Also, what's the \"building class\" thing?\n",
    "\n",
    "I always assumed we were talking about houses, now there's this `41 TAX CLASS 4 - OTHER` thing? And when you google the addresses, they turn out to be parking lots???\n",
    "\n",
    "**I guess we were really just making some dumb assumptions!** Let's narrow things down a bit. We'll start by looking at what the different building classes.\n",
    "\n",
    "Look at what the most common building classes are in the dataset. There are a few columns, take a look at couple between `building_class_category` and `building_class_at_present` or `building_class_at_time_of_sale`. Maybe just check out the top 20 building classes in a sale?"
   ]
  },
  {
   "cell_type": "code",
   "execution_count": null,
   "id": "df997bfa",
   "metadata": {},
   "outputs": [],
   "source": []
  },
  {
   "cell_type": "markdown",
   "id": "34986c42",
   "metadata": {},
   "source": [
    "While R4, C0 and B1 seem like wonderful building classes, *I have no idea what they mean*. Luckily there's [a website we can go to](https://www1.nyc.gov/assets/finance/jump/hlpbldgcode.html) that will tell us what each of them mean.\n",
    "\n",
    "But also: I don't want to have to look them up all the time."
   ]
  },
  {
   "cell_type": "markdown",
   "id": "bb405c3e",
   "metadata": {},
   "source": [
    "## Making those descriptions a column in our dataset\n",
    "\n",
    "### Use `pd.read_html` to download the columns into a dataframe.\n",
    "\n",
    "The first few rows should look like this:\n",
    "    \n",
    "||Building Code|Description|\n",
    "|---|---|---|\n",
    "0|A|ONE FAMILY DWELLINGS|\n",
    "1|A0|CAPE COD|\n",
    "2|A1|TWO STORIES - DETACHED SM OR MID|\n",
    "3|A2|ONE STORY - PERMANENT LIVING QUARTER|\n",
    "\n",
    "* **Tip:** It doesn't involve any fancy CSS selectors or anything."
   ]
  },
  {
   "cell_type": "code",
   "execution_count": null,
   "id": "397b4c2e",
   "metadata": {},
   "outputs": [],
   "source": []
  },
  {
   "cell_type": "markdown",
   "id": "2939262e",
   "metadata": {},
   "source": [
    "### Combine the codes dataframe with our original dataframe"
   ]
  },
  {
   "cell_type": "code",
   "execution_count": null,
   "id": "679f935f",
   "metadata": {},
   "outputs": [],
   "source": []
  },
  {
   "cell_type": "markdown",
   "id": "751ccd3b",
   "metadata": {},
   "source": [
    "Feel free to fix up the new column headers so they're lower-case with `_` instead of spaces, if you want."
   ]
  },
  {
   "cell_type": "code",
   "execution_count": null,
   "id": "f0a977d6",
   "metadata": {},
   "outputs": [],
   "source": []
  },
  {
   "cell_type": "markdown",
   "id": "78669252",
   "metadata": {},
   "source": [
    "## Let's save again, just for safety's sake\n",
    "\n",
    "Take your merged dataset and save it as, I don't know, `merged.csv` I guess. Remember to add `index=False` so the index doesn't get saved as a column!"
   ]
  },
  {
   "cell_type": "code",
   "execution_count": null,
   "id": "d40e8d62",
   "metadata": {},
   "outputs": [],
   "source": []
  },
  {
   "cell_type": "code",
   "execution_count": null,
   "id": "e24a96f6",
   "metadata": {},
   "outputs": [],
   "source": []
  }
 ],
 "metadata": {
  "kernelspec": {
   "display_name": "Python 3 (ipykernel)",
   "language": "python",
   "name": "python3"
  },
  "language_info": {
   "codemirror_mode": {
    "name": "ipython",
    "version": 3
   },
   "file_extension": ".py",
   "mimetype": "text/x-python",
   "name": "python",
   "nbconvert_exporter": "python",
   "pygments_lexer": "ipython3",
   "version": "3.10.3"
  }
 },
 "nbformat": 4,
 "nbformat_minor": 5
}
