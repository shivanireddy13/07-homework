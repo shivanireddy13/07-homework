{
 "cells": [
  {
   "cell_type": "markdown",
   "id": "9f47ab87",
   "metadata": {},
   "source": [
    "# Scrape sale price documents for Brooklyn homes\n",
    "\n",
    "## Build a list of documents we would like to download\n",
    "\n",
    "Visit https://www.nyc.gov/site/finance/taxes/property-annualized-sales-update.page and peek under \"Detailed Annual Sales Reports by Borough.\" We want to build a list of all of the excel files that link to **one borough**. It's your choice - Manhattan, Brooklyn, Staten Island, etc.\n",
    "\n",
    "* _**Tip:** You can basically cut and paste from the end of class on this one_\n",
    "* _**Tip:** 2017 and earlier files are `.xls`, not `.xlsx`_"
   ]
  },
  {
   "cell_type": "code",
   "execution_count": null,
   "id": "b97b5445",
   "metadata": {},
   "outputs": [],
   "source": [
    "#2009_brooklyn.xls\n",
    "#2010_brooklyn.xls\n",
    "#2011_brooklyn.xls\n",
    "#2012_brooklyn.xls\n",
    "#2013_brooklyn.xls\n",
    "#2014_brooklyn.xls\n",
    "#2015_brooklyn.xls\n",
    "#2016_brooklyn.xls\n",
    "#2017_brooklyn.xls\n",
    "#2018_brooklyn.xlsx\n",
    "#2019_brooklyn.xlsx\n",
    "#2020_brooklyn.xlsx\n",
    "#2021_brooklyn.xlsx\n"
   ]
  },
  {
   "cell_type": "code",
   "execution_count": 3,
   "id": "29c7eca6",
   "metadata": {},
   "outputs": [],
   "source": [
    "import requests\n",
    "from bs4 import BeautifulSoup"
   ]
  },
  {
   "cell_type": "code",
   "execution_count": 4,
   "id": "1cc3188a",
   "metadata": {},
   "outputs": [],
   "source": [
    "response = requests.get(\"https://www.nyc.gov/site/finance/taxes/property-annualized-sales-update.page\")\n",
    "doc = BeautifulSoup(response.text)"
   ]
  },
  {
   "cell_type": "markdown",
   "id": "0933c104",
   "metadata": {},
   "source": [
    "## Use Python to make a list of the URLs to be downloaded, and save them to a file.\n",
    "\n",
    "The format is a _little_ different than what we did in class, as `/` at the beginning of a url means \"start from the top of the domain\" instead of \"start relative to the page you're on now.\" Just examine your URLs and you'll notice it.\n",
    "\n",
    "_**Tip:** If you want to google around at other ways to do this, the `'\\n'.join(urls)` method might be an interesting one to look at._"
   ]
  },
  {
   "cell_type": "code",
   "execution_count": 12,
   "id": "e724fd65",
   "metadata": {},
   "outputs": [
    {
     "name": "stdout",
     "output_type": "stream",
     "text": [
      "/assets/finance/downloads/pdf/rolling_sales/annualized-sales/2021/2021_brooklyn.xlsx\n",
      "/assets/finance/downloads/pdf/rolling_sales/annualized-sales/2020/2020_brooklyn.xlsx\n",
      "/assets/finance/downloads/pdf/rolling_sales/annualized-sales/2019/2019_brooklyn.xlsx\n",
      "/assets/finance/downloads/pdf/rolling_sales/annualized-sales/2018/2018_brooklyn.xlsx\n",
      "/assets/finance/downloads/pdf/rolling_sales/annualized-sales/2017/2017_brooklyn.xls\n",
      "/assets/finance/downloads/pdf/rolling_sales/annualized-sales/2016/2016_brooklyn.xls\n",
      "/assets/finance/downloads/pdf/rolling_sales/annualized-sales/2015/2015_brooklyn.xls\n",
      "/assets/finance/downloads/pdf/rolling_sales/annualized-sales/2014/2014_brooklyn.xls\n",
      "/assets/finance/downloads/pdf/rolling_sales/annualized-sales/2013/2013_brooklyn.xls\n",
      "/assets/finance/downloads/pdf/rolling_sales/annualized-sales/2012/2012_brooklyn.xls\n",
      "/assets/finance/downloads/pdf/rolling_sales/annualized-sales/2011/2011_brooklyn.xls\n",
      "/assets/finance/downloads/pdf/rolling_sales/annualized-sales/2010/2010_brooklyn.xls\n",
      "/assets/finance/downloads/pdf/rolling_sales/annualized-sales/2009_brooklyn.xls\n",
      "/assets/finance/downloads/pdf/09pdf/rolling_sales/sales_2008_brooklyn.xls\n",
      "/assets/finance/downloads/excel/rolling_sales/sales_2007_brooklyn.xls\n"
     ]
    }
   ],
   "source": [
    "#scrape excel files from url\n",
    "# url = 'https://www.nyc.gov/site/finance/taxes/property-annualized-sales-update.page'\n",
    "\n",
    "urls = doc.find_all('a')\n",
    "for link in links:\n",
    "    if link.has_attr('href'):\n",
    "        if link['href'].endswith('brooklyn.xls') or link['href'].endswith('brooklyn.xlsx'):\n",
    "            print(link['href'])\n",
    "\n",
    "#links = doc.find_all('a')\n",
    "#for link in links:\n",
    "   # try:\n",
    "     #   if '' in link['href']:\n",
    "    #  \n",
    "       #     print(\"https://www.nyc.gov/assets/finance/\" + link['href'])\n",
    "  #  except:\n",
    "     \n",
    "     #   pass"
   ]
  },
  {
   "cell_type": "code",
   "execution_count": 14,
   "id": "4f775249",
   "metadata": {},
   "outputs": [
    {
     "name": "stdout",
     "output_type": "stream",
     "text": [
      "/assets/finance/downloads/pdf/rolling_sales/annualized-sales/2021/2021_brooklyn.xlsx\n",
      "/assets/finance/downloads/pdf/rolling_sales/annualized-sales/2020/2020_brooklyn.xlsx\n",
      "/assets/finance/downloads/pdf/rolling_sales/annualized-sales/2019/2019_brooklyn.xlsx\n",
      "/assets/finance/downloads/pdf/rolling_sales/annualized-sales/2018/2018_brooklyn.xlsx\n",
      "/assets/finance/downloads/pdf/rolling_sales/annualized-sales/2017/2017_brooklyn.xls\n",
      "/assets/finance/downloads/pdf/rolling_sales/annualized-sales/2016/2016_brooklyn.xls\n",
      "/assets/finance/downloads/pdf/rolling_sales/annualized-sales/2015/2015_brooklyn.xls\n",
      "/assets/finance/downloads/pdf/rolling_sales/annualized-sales/2014/2014_brooklyn.xls\n",
      "/assets/finance/downloads/pdf/rolling_sales/annualized-sales/2013/2013_brooklyn.xls\n",
      "/assets/finance/downloads/pdf/rolling_sales/annualized-sales/2012/2012_brooklyn.xls\n",
      "/assets/finance/downloads/pdf/rolling_sales/annualized-sales/2011/2011_brooklyn.xls\n",
      "/assets/finance/downloads/pdf/rolling_sales/annualized-sales/2010/2010_brooklyn.xls\n",
      "/assets/finance/downloads/pdf/rolling_sales/annualized-sales/2009_brooklyn.xls\n",
      "/assets/finance/downloads/pdf/09pdf/rolling_sales/sales_2008_brooklyn.xls\n",
      "/assets/finance/downloads/excel/rolling_sales/sales_2007_brooklyn.xls\n"
     ]
    }
   ],
   "source": [
    "links = doc.select(\"a[href*='brooklyn.xls']\")\n",
    "for link in links:\n",
    "    print(link['href'])"
   ]
  },
  {
   "cell_type": "markdown",
   "id": "a8d3ce05",
   "metadata": {},
   "source": [
    "## Download the Excel files with `wget` or `curl`\n",
    "\n",
    "You can see what I did in class, but `wget` has an option to provide it with a filename to download al ist of files from."
   ]
  },
  {
   "cell_type": "code",
   "execution_count": 15,
   "id": "e24a96f6",
   "metadata": {},
   "outputs": [
    {
     "data": {
      "text/plain": [
       "['https://www.nyc.gov//assets/finance/downloads/pdf/rolling_sales/annualized-sales/2021/2021_brooklyn.xlsx',\n",
       " 'https://www.nyc.gov//assets/finance/downloads/pdf/rolling_sales/annualized-sales/2020/2020_brooklyn.xlsx',\n",
       " 'https://www.nyc.gov//assets/finance/downloads/pdf/rolling_sales/annualized-sales/2019/2019_brooklyn.xlsx',\n",
       " 'https://www.nyc.gov//assets/finance/downloads/pdf/rolling_sales/annualized-sales/2018/2018_brooklyn.xlsx',\n",
       " 'https://www.nyc.gov//assets/finance/downloads/pdf/rolling_sales/annualized-sales/2017/2017_brooklyn.xls',\n",
       " 'https://www.nyc.gov//assets/finance/downloads/pdf/rolling_sales/annualized-sales/2016/2016_brooklyn.xls',\n",
       " 'https://www.nyc.gov//assets/finance/downloads/pdf/rolling_sales/annualized-sales/2015/2015_brooklyn.xls',\n",
       " 'https://www.nyc.gov//assets/finance/downloads/pdf/rolling_sales/annualized-sales/2014/2014_brooklyn.xls',\n",
       " 'https://www.nyc.gov//assets/finance/downloads/pdf/rolling_sales/annualized-sales/2013/2013_brooklyn.xls',\n",
       " 'https://www.nyc.gov//assets/finance/downloads/pdf/rolling_sales/annualized-sales/2012/2012_brooklyn.xls',\n",
       " 'https://www.nyc.gov//assets/finance/downloads/pdf/rolling_sales/annualized-sales/2011/2011_brooklyn.xls',\n",
       " 'https://www.nyc.gov//assets/finance/downloads/pdf/rolling_sales/annualized-sales/2010/2010_brooklyn.xls',\n",
       " 'https://www.nyc.gov//assets/finance/downloads/pdf/rolling_sales/annualized-sales/2009_brooklyn.xls',\n",
       " 'https://www.nyc.gov//assets/finance/downloads/pdf/09pdf/rolling_sales/sales_2008_brooklyn.xls',\n",
       " 'https://www.nyc.gov//assets/finance/downloads/excel/rolling_sales/sales_2007_brooklyn.xls']"
      ]
     },
     "execution_count": 15,
     "metadata": {},
     "output_type": "execute_result"
    }
   ],
   "source": [
    "urls = [\"https://www.nyc.gov/\" + link['href'] for link in links]\n",
    "urls\n",
    "\n"
   ]
  },
  {
   "cell_type": "code",
   "execution_count": 16,
   "id": "0f3984a7",
   "metadata": {},
   "outputs": [],
   "source": [
    "with open(\"urls.txt\", 'w') as fp:\n",
    "    for url in urls:\n",
    "        fp.write(url + \"\\n\")\n",
    "    "
   ]
  },
  {
   "cell_type": "code",
   "execution_count": null,
   "id": "3b8eaa1d",
   "metadata": {},
   "outputs": [],
   "source": [
    "#!wget -i urls.txt"
   ]
  }
 ],
 "metadata": {
  "kernelspec": {
   "display_name": "Python 3.11.0rc2 64-bit ('3.11.0rc2')",
   "language": "python",
   "name": "python3"
  },
  "language_info": {
   "codemirror_mode": {
    "name": "ipython",
    "version": 3
   },
   "file_extension": ".py",
   "mimetype": "text/x-python",
   "name": "python",
   "nbconvert_exporter": "python",
   "pygments_lexer": "ipython3",
   "version": "3.11.0rc2"
  },
  "vscode": {
   "interpreter": {
    "hash": "fa7dd49bd06a4b0b734d7073ce817c8199e9056c91ac3585cf20f0427123aa55"
   }
  }
 },
 "nbformat": 4,
 "nbformat_minor": 5
}
